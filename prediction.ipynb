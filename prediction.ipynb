{
 "cells": [
  {
   "cell_type": "code",
   "execution_count": 1,
   "id": "0db51c48",
   "metadata": {
    "execution": {
     "iopub.execute_input": "2023-03-28T21:04:31.473581Z",
     "iopub.status.busy": "2023-03-28T21:04:31.473168Z",
     "iopub.status.idle": "2023-03-28T21:04:32.872154Z",
     "shell.execute_reply": "2023-03-28T21:04:32.870609Z"
    },
    "papermill": {
     "duration": 1.409591,
     "end_time": "2023-03-28T21:04:32.875425",
     "exception": false,
     "start_time": "2023-03-28T21:04:31.465834",
     "status": "completed"
    },
    "tags": []
   },
   "outputs": [],
   "source": [
    "# Import Libraries\n",
    "\n",
    "import pandas as pd\n",
    "import seaborn as sns\n",
    "import matplotlib.pyplot as plt\n",
    "\n",
    "from sklearn.feature_extraction.text import TfidfVectorizer\n",
    "\n",
    "from sklearn.svm import SVC\n",
    "from sklearn.model_selection import train_test_split\n",
    "from sklearn.metrics import accuracy_score, classification_report, confusion_matrix"
   ]
  },
  {
   "cell_type": "markdown",
   "id": "b80fb5e1",
   "metadata": {
    "papermill": {
     "duration": 0.004227,
     "end_time": "2023-03-28T21:04:32.883964",
     "exception": false,
     "start_time": "2023-03-28T21:04:32.879737",
     "status": "completed"
    },
    "tags": []
   },
   "source": [
    "Load Dataset"
   ]
  },
  {
   "cell_type": "code",
   "execution_count": 3,
   "id": "13272de9",
   "metadata": {
    "execution": {
     "iopub.execute_input": "2023-03-28T21:04:32.921489Z",
     "iopub.status.busy": "2023-03-28T21:04:32.921085Z",
     "iopub.status.idle": "2023-03-28T21:04:33.789260Z",
     "shell.execute_reply": "2023-03-28T21:04:33.787967Z"
    },
    "papermill": {
     "duration": 0.876195,
     "end_time": "2023-03-28T21:04:33.791620",
     "exception": false,
     "start_time": "2023-03-28T21:04:32.915425",
     "status": "completed"
    },
    "tags": []
   },
   "outputs": [
    {
     "data": {
      "text/html": [
       "<div>\n",
       "<style scoped>\n",
       "    .dataframe tbody tr th:only-of-type {\n",
       "        vertical-align: middle;\n",
       "    }\n",
       "\n",
       "    .dataframe tbody tr th {\n",
       "        vertical-align: top;\n",
       "    }\n",
       "\n",
       "    .dataframe thead th {\n",
       "        text-align: right;\n",
       "    }\n",
       "</style>\n",
       "<table border=\"1\" class=\"dataframe\">\n",
       "  <thead>\n",
       "    <tr style=\"text-align: right;\">\n",
       "      <th></th>\n",
       "      <th>Class Index</th>\n",
       "      <th>Title</th>\n",
       "      <th>Description</th>\n",
       "    </tr>\n",
       "  </thead>\n",
       "  <tbody>\n",
       "    <tr>\n",
       "      <th>0</th>\n",
       "      <td>3</td>\n",
       "      <td>Wall St. Bears Claw Back Into the Black (Reuters)</td>\n",
       "      <td>Reuters - Short-sellers, Wall Street's dwindli...</td>\n",
       "    </tr>\n",
       "    <tr>\n",
       "      <th>1</th>\n",
       "      <td>3</td>\n",
       "      <td>Carlyle Looks Toward Commercial Aerospace (Reu...</td>\n",
       "      <td>Reuters - Private investment firm Carlyle Grou...</td>\n",
       "    </tr>\n",
       "    <tr>\n",
       "      <th>2</th>\n",
       "      <td>3</td>\n",
       "      <td>Oil and Economy Cloud Stocks' Outlook (Reuters)</td>\n",
       "      <td>Reuters - Soaring crude prices plus worries\\ab...</td>\n",
       "    </tr>\n",
       "    <tr>\n",
       "      <th>3</th>\n",
       "      <td>3</td>\n",
       "      <td>Iraq Halts Oil Exports from Main Southern Pipe...</td>\n",
       "      <td>Reuters - Authorities have halted oil export\\f...</td>\n",
       "    </tr>\n",
       "    <tr>\n",
       "      <th>4</th>\n",
       "      <td>3</td>\n",
       "      <td>Oil prices soar to all-time record, posing new...</td>\n",
       "      <td>AFP - Tearaway world oil prices, toppling reco...</td>\n",
       "    </tr>\n",
       "    <tr>\n",
       "      <th>...</th>\n",
       "      <td>...</td>\n",
       "      <td>...</td>\n",
       "      <td>...</td>\n",
       "    </tr>\n",
       "    <tr>\n",
       "      <th>119995</th>\n",
       "      <td>1</td>\n",
       "      <td>Pakistan's Musharraf Says Won't Quit as Army C...</td>\n",
       "      <td>KARACHI (Reuters) - Pakistani President Perve...</td>\n",
       "    </tr>\n",
       "    <tr>\n",
       "      <th>119996</th>\n",
       "      <td>2</td>\n",
       "      <td>Renteria signing a top-shelf deal</td>\n",
       "      <td>Red Sox general manager Theo Epstein acknowled...</td>\n",
       "    </tr>\n",
       "    <tr>\n",
       "      <th>119997</th>\n",
       "      <td>2</td>\n",
       "      <td>Saban not going to Dolphins yet</td>\n",
       "      <td>The Miami Dolphins will put their courtship of...</td>\n",
       "    </tr>\n",
       "    <tr>\n",
       "      <th>119998</th>\n",
       "      <td>2</td>\n",
       "      <td>Today's NFL games</td>\n",
       "      <td>PITTSBURGH at NY GIANTS Time: 1:30 p.m. Line: ...</td>\n",
       "    </tr>\n",
       "    <tr>\n",
       "      <th>119999</th>\n",
       "      <td>2</td>\n",
       "      <td>Nets get Carter from Raptors</td>\n",
       "      <td>INDIANAPOLIS -- All-Star Vince Carter was trad...</td>\n",
       "    </tr>\n",
       "  </tbody>\n",
       "</table>\n",
       "<p>120000 rows × 3 columns</p>\n",
       "</div>"
      ],
      "text/plain": [
       "        Class Index                                              Title  \\\n",
       "0                 3  Wall St. Bears Claw Back Into the Black (Reuters)   \n",
       "1                 3  Carlyle Looks Toward Commercial Aerospace (Reu...   \n",
       "2                 3    Oil and Economy Cloud Stocks' Outlook (Reuters)   \n",
       "3                 3  Iraq Halts Oil Exports from Main Southern Pipe...   \n",
       "4                 3  Oil prices soar to all-time record, posing new...   \n",
       "...             ...                                                ...   \n",
       "119995            1  Pakistan's Musharraf Says Won't Quit as Army C...   \n",
       "119996            2                  Renteria signing a top-shelf deal   \n",
       "119997            2                    Saban not going to Dolphins yet   \n",
       "119998            2                                  Today's NFL games   \n",
       "119999            2                       Nets get Carter from Raptors   \n",
       "\n",
       "                                              Description  \n",
       "0       Reuters - Short-sellers, Wall Street's dwindli...  \n",
       "1       Reuters - Private investment firm Carlyle Grou...  \n",
       "2       Reuters - Soaring crude prices plus worries\\ab...  \n",
       "3       Reuters - Authorities have halted oil export\\f...  \n",
       "4       AFP - Tearaway world oil prices, toppling reco...  \n",
       "...                                                   ...  \n",
       "119995   KARACHI (Reuters) - Pakistani President Perve...  \n",
       "119996  Red Sox general manager Theo Epstein acknowled...  \n",
       "119997  The Miami Dolphins will put their courtship of...  \n",
       "119998  PITTSBURGH at NY GIANTS Time: 1:30 p.m. Line: ...  \n",
       "119999  INDIANAPOLIS -- All-Star Vince Carter was trad...  \n",
       "\n",
       "[120000 rows x 3 columns]"
      ]
     },
     "execution_count": 3,
     "metadata": {},
     "output_type": "execute_result"
    }
   ],
   "source": [
    "df = pd.read_csv('train.csv')\n",
    "df"
   ]
  },
  {
   "cell_type": "code",
   "execution_count": 4,
   "id": "cc73af75",
   "metadata": {
    "execution": {
     "iopub.execute_input": "2023-03-28T21:04:33.802813Z",
     "iopub.status.busy": "2023-03-28T21:04:33.801756Z",
     "iopub.status.idle": "2023-03-28T21:04:33.808809Z",
     "shell.execute_reply": "2023-03-28T21:04:33.808055Z"
    },
    "papermill": {
     "duration": 0.014862,
     "end_time": "2023-03-28T21:04:33.810922",
     "exception": false,
     "start_time": "2023-03-28T21:04:33.796060",
     "status": "completed"
    },
    "tags": []
   },
   "outputs": [
    {
     "data": {
      "text/plain": [
       "Index(['Class Index', 'Title', 'Description'], dtype='object')"
      ]
     },
     "execution_count": 4,
     "metadata": {},
     "output_type": "execute_result"
    }
   ],
   "source": [
    "# View Column Headers\n",
    "\n",
    "df.columns"
   ]
  },
  {
   "cell_type": "code",
   "execution_count": 5,
   "id": "44194288",
   "metadata": {
    "execution": {
     "iopub.execute_input": "2023-03-28T21:04:33.821612Z",
     "iopub.status.busy": "2023-03-28T21:04:33.821038Z",
     "iopub.status.idle": "2023-03-28T21:04:33.845422Z",
     "shell.execute_reply": "2023-03-28T21:04:33.844558Z"
    },
    "papermill": {
     "duration": 0.032423,
     "end_time": "2023-03-28T21:04:33.847754",
     "exception": false,
     "start_time": "2023-03-28T21:04:33.815331",
     "status": "completed"
    },
    "tags": []
   },
   "outputs": [
    {
     "data": {
      "text/plain": [
       "Class Index    False\n",
       "Title          False\n",
       "Description    False\n",
       "dtype: bool"
      ]
     },
     "execution_count": 5,
     "metadata": {},
     "output_type": "execute_result"
    }
   ],
   "source": [
    "# Check for null values in the dataset\n",
    "\n",
    "df.isna().any()"
   ]
  },
  {
   "cell_type": "code",
   "execution_count": 6,
   "id": "a0744771",
   "metadata": {
    "execution": {
     "iopub.execute_input": "2023-03-28T21:04:33.859038Z",
     "iopub.status.busy": "2023-03-28T21:04:33.858399Z",
     "iopub.status.idle": "2023-03-28T21:04:34.093055Z",
     "shell.execute_reply": "2023-03-28T21:04:34.091947Z"
    },
    "papermill": {
     "duration": 0.243229,
     "end_time": "2023-03-28T21:04:34.095584",
     "exception": false,
     "start_time": "2023-03-28T21:04:33.852355",
     "status": "completed"
    },
    "tags": []
   },
   "outputs": [
    {
     "data": {
      "image/png": "[encoded data removed]",
      "text/plain": [
       "<Figure size 640x480 with 1 Axes>"
      ]
     },
     "metadata": {},
     "output_type": "display_data"
    }
   ],
   "source": [
    "# Plot the target class distribution\n",
    "\n",
    "sns.countplot(x = 'Class Index', data = df)\n",
    "plt.show()"
   ]
  },
  {
   "cell_type": "markdown",
   "id": "ddd83175",
   "metadata": {
    "papermill": {
     "duration": 0.004583,
     "end_time": "2023-03-28T21:04:34.105064",
     "exception": false,
     "start_time": "2023-03-28T21:04:34.100481",
     "status": "completed"
    },
    "tags": []
   },
   "source": [
    "TF-IDF "
   ]
  },
  {
   "cell_type": "code",
   "execution_count": 7,
   "id": "037dc294",
   "metadata": {
    "execution": {
     "iopub.execute_input": "2023-03-28T21:04:34.117045Z",
     "iopub.status.busy": "2023-03-28T21:04:34.115842Z",
     "iopub.status.idle": "2023-03-28T21:04:38.074716Z",
     "shell.execute_reply": "2023-03-28T21:04:38.073468Z"
    },
    "papermill": {
     "duration": 3.967742,
     "end_time": "2023-03-28T21:04:38.077511",
     "exception": false,
     "start_time": "2023-03-28T21:04:34.109769",
     "status": "completed"
    },
    "tags": []
   },
   "outputs": [],
   "source": [
    "# Term frequency-inverse document frequency is a text vectorizer that can be used to vectorize text into a format more agreeable for ML & NLP techniques\n",
    "\n",
    "# create a TF-IDF vectorizer\n",
    "vectorizer = TfidfVectorizer()\n",
    "\n",
    "# vectorize the text data\n",
    "# feature\n",
    "X = vectorizer.fit_transform(df['Description'])\n",
    "# target\n",
    "y = df['Class Index']"
   ]
  },
  {
   "cell_type": "markdown",
   "id": "06dfd36b",
   "metadata": {
    "papermill": {
     "duration": 0.004647,
     "end_time": "2023-03-28T21:04:38.087154",
     "exception": false,
     "start_time": "2023-03-28T21:04:38.082507",
     "status": "completed"
    },
    "tags": []
   },
   "source": [
    "Model Training - Linear SVC"
   ]
  },
  {
   "cell_type": "code",
   "execution_count": 8,
   "id": "df6df92f",
   "metadata": {
    "execution": {
     "iopub.execute_input": "2023-03-28T21:04:38.098606Z",
     "iopub.status.busy": "2023-03-28T21:04:38.098140Z",
     "iopub.status.idle": "2023-03-28T21:48:47.495026Z",
     "shell.execute_reply": "2023-03-28T21:48:47.493675Z"
    },
    "papermill": {
     "duration": 2649.405785,
     "end_time": "2023-03-28T21:48:47.497824",
     "exception": false,
     "start_time": "2023-03-28T21:04:38.092039",
     "status": "completed"
    },
    "tags": []
   },
   "outputs": [],
   "source": [
    "# split the data into training and testing sets\n",
    "X_train, X_test, y_train, y_test = train_test_split(X, y, test_size=0.2, random_state=42)\n",
    "\n",
    "# train a SVM classifier on the training data\n",
    "clf = SVC(kernel='linear').fit(X_train, y_train)"
   ]
  },
  {
   "cell_type": "markdown",
   "id": "b27f21ca",
   "metadata": {
    "papermill": {
     "duration": 0.004738,
     "end_time": "2023-03-28T21:48:47.508073",
     "exception": false,
     "start_time": "2023-03-28T21:48:47.503335",
     "status": "completed"
    },
    "tags": []
   },
   "source": [
    "Model Testing"
   ]
  },
  {
   "cell_type": "code",
   "execution_count": 9,
   "id": "b31d7f03",
   "metadata": {
    "execution": {
     "iopub.execute_input": "2023-03-28T21:48:47.519507Z",
     "iopub.status.busy": "2023-03-28T21:48:47.519119Z",
     "iopub.status.idle": "2023-03-28T21:52:57.073544Z",
     "shell.execute_reply": "2023-03-28T21:52:57.072548Z"
    },
    "papermill": {
     "duration": 249.563314,
     "end_time": "2023-03-28T21:52:57.076231",
     "exception": false,
     "start_time": "2023-03-28T21:48:47.512917",
     "status": "completed"
    },
    "tags": []
   },
   "outputs": [],
   "source": [
    "# make predictions on the test data\n",
    "y_pred = clf.predict(X_test)"
   ]
  },
  {
   "cell_type": "markdown",
   "id": "92a96038",
   "metadata": {
    "papermill": {
     "duration": 0.005218,
     "end_time": "2023-03-28T21:52:57.086847",
     "exception": false,
     "start_time": "2023-03-28T21:52:57.081629",
     "status": "completed"
    },
    "tags": []
   },
   "source": [
    "Model Evaluation"
   ]
  },
  {
   "cell_type": "code",
   "execution_count": 10,
   "id": "d396d8da",
   "metadata": {
    "execution": {
     "iopub.execute_input": "2023-03-28T21:52:57.098401Z",
     "iopub.status.busy": "2023-03-28T21:52:57.097743Z",
     "iopub.status.idle": "2023-03-28T21:52:57.464112Z",
     "shell.execute_reply": "2023-03-28T21:52:57.462827Z"
    },
    "papermill": {
     "duration": 0.375151,
     "end_time": "2023-03-28T21:52:57.466798",
     "exception": false,
     "start_time": "2023-03-28T21:52:57.091647",
     "status": "completed"
    },
    "tags": []
   },
   "outputs": [
    {
     "name": "stdout",
     "output_type": "stream",
     "text": [
      "\n",
      "Accuracy:  90.904 %\n",
      "\n",
      "Classification Report:\n",
      "               precision    recall  f1-score   support\n",
      "\n",
      "           1       0.92      0.89      0.91      5956\n",
      "           2       0.95      0.98      0.96      6058\n",
      "           3       0.88      0.88      0.88      5911\n",
      "           4       0.89      0.89      0.89      6075\n",
      "\n",
      "    accuracy                           0.91     24000\n",
      "   macro avg       0.91      0.91      0.91     24000\n",
      "weighted avg       0.91      0.91      0.91     24000\n",
      "\n",
      "\n",
      "Confusion Matrix:\n",
      "\n"
     ]
    },
    {
     "data": {
      "image/png": "[encoded data removed]",
      "text/plain": [
       "<Figure size 800x800 with 1 Axes>"
      ]
     },
     "metadata": {},
     "output_type": "display_data"
    }
   ],
   "source": [
    "# evaluate the performance of the classifier\n",
    "\n",
    "accuracy = accuracy_score(y_test, y_pred)\n",
    "print(\"\\nAccuracy: \",round(accuracy*100,3),\"%\")\n",
    "\n",
    "report = classification_report(y_test, y_pred)\n",
    "print(\"\\nClassification Report:\\n\", report)\n",
    "\n",
    "print(\"\\nConfusion Matrix:\\n\")\n",
    "matrix = confusion_matrix(y_test, y_pred)\n",
    "matrix =pd.DataFrame(matrix, index=[i for i in range(1,5)], columns=[i for i in range(1,5)])\n",
    "sns.set(font_scale=1.5)\n",
    "plt.figure(figsize=(8,8));\n",
    "sns.heatmap(matrix, cmap='Greens',linewidths=1, annot=True,square=True, fmt='d', cbar=False,xticklabels=['World','Sports','Business','Science'],yticklabels=['World','Sports','Business','Science']);\n",
    "plt.xlabel(\"Predicted Classes\");\n",
    "plt.ylabel(\"Actual Classes\");"
   ]
  }
 ],
 "metadata": {
  "kernelspec": {
   "display_name": "Python 3",
   "language": "python",
   "name": "python3"
  },
  "language_info": {
   "codemirror_mode": {
    "name": "ipython",
    "version": 3
   },
   "file_extension": ".py",
   "mimetype": "text/x-python",
   "name": "python",
   "nbconvert_exporter": "python",
   "pygments_lexer": "ipython3",
   "version": "3.7.12"
  },
  "papermill": {
   "default_parameters": {},
   "duration": 2916.824778,
   "end_time": "2023-03-28T21:52:58.304222",
   "environment_variables": {},
   "exception": null,
   "input_path": "__notebook__.ipynb",
   "output_path": "__notebook__.ipynb",
   "parameters": {},
   "start_time": "2023-03-28T21:04:21.479444",
   "version": "2.4.0"
  }
 },
 "nbformat": 4,
 "nbformat_minor": 5
}
